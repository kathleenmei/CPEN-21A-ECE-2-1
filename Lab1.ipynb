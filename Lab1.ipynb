{
  "nbformat": 4,
  "nbformat_minor": 0,
  "metadata": {
    "colab": {
      "name": "Lab1.ipynb",
      "provenance": [],
      "authorship_tag": "ABX9TyO9upv3oKTyJNBd4Byq+8af",
      "include_colab_link": true
    },
    "kernelspec": {
      "name": "python3",
      "display_name": "Python 3"
    },
    "language_info": {
      "name": "python"
    }
  },
  "cells": [
    {
      "cell_type": "markdown",
      "metadata": {
        "id": "view-in-github",
        "colab_type": "text"
      },
      "source": [
        "<a href=\"https://colab.research.google.com/github/kathleenmei/CPEN-21A-ECE-2-1/blob/main/Lab1.ipynb\" target=\"_parent\"><img src=\"https://colab.research.google.com/assets/colab-badge.svg\" alt=\"Open In Colab\"/></a>"
      ]
    },
    {
      "cell_type": "markdown",
      "metadata": {
        "id": "sq5k8ORl2LCD"
      },
      "source": [
        "#Laboratory 1"
      ]
    },
    {
      "cell_type": "code",
      "metadata": {
        "colab": {
          "base_uri": "https://localhost:8080/"
        },
        "id": "33CwuNgp2QR-",
        "outputId": "a0466914-48f3-4281-a486-ebf2d21af298"
      },
      "source": [
        "a = \"Welcome to Python Programming\"\n",
        "x = \"Name:\"\n",
        "y = \"Address:\"\n",
        "z = \"Age:\"\n",
        "print(a)\n",
        "print(x +\" \" \"Kathleen Mei R. Macalindong\")\n",
        "print(y +\" \" \"#37 Bliss, Biga II, Silang, Cavite\")\n",
        "print(z +\" \" \"19 years old\")"
      ],
      "execution_count": 1,
      "outputs": [
        {
          "output_type": "stream",
          "name": "stdout",
          "text": [
            "Welcome to Python Programming\n",
            "Name: Kathleen Mei R. Macalindong\n",
            "Address: #37 Bliss, Biga II, Silang, Cavite\n",
            "Age: 19 years old\n"
          ]
        }
      ]
    }
  ]
}