{
  "nbformat": 4,
  "nbformat_minor": 0,
  "metadata": {
    "colab": {
      "name": "Final Exam.ipynb",
      "provenance": [],
      "authorship_tag": "ABX9TyODQoDiWRvIxXX33NgKwOs6",
      "include_colab_link": true
    },
    "kernelspec": {
      "name": "python3",
      "display_name": "Python 3"
    },
    "language_info": {
      "name": "python"
    }
  },
  "cells": [
    {
      "cell_type": "markdown",
      "metadata": {
        "id": "view-in-github",
        "colab_type": "text"
      },
      "source": [
        "<a href=\"https://colab.research.google.com/github/kathleenmei/CPEN-21A-ECE-2-1/blob/main/Final_Exam.ipynb\" target=\"_parent\"><img src=\"https://colab.research.google.com/assets/colab-badge.svg\" alt=\"Open In Colab\"/></a>"
      ]
    },
    {
      "cell_type": "markdown",
      "source": [
        "## PROBLEM STATEMENT 1."
      ],
      "metadata": {
        "id": "MpyHvucW9uFF"
      }
    },
    {
      "cell_type": "code",
      "execution_count": 3,
      "metadata": {
        "colab": {
          "base_uri": "https://localhost:8080/"
        },
        "id": "yRfaHwXY9tN4",
        "outputId": "989a9c60-ea3c-4120-c515-db72e5c4e6da"
      },
      "outputs": [
        {
          "output_type": "stream",
          "name": "stdout",
          "text": [
            "Enter a number:6\n",
            "Invalid, please put a number less than 5\n",
            "Enter a number:4\n",
            "Enter a number:4.5\n",
            "Enter a number:3\n",
            "Enter a number:3.5\n",
            "Enter a number:2\n",
            "Enter a number:2.5\n",
            "Enter a number:1\n",
            "Enter a number:1.5\n",
            "Enter a number:0\n",
            "Enter a number:0.5\n",
            "The numbers you entered are: [4.0, 4.5, 3.0, 3.5, 2.0, 2.5, 1.0, 1.5, 0.0, 0.5]\n",
            "\n",
            "The sum of numbers that are less than 5 is: 22.5\n"
          ]
        }
      ],
      "source": [
        "num=[]\n",
        "x=0\n",
        "for x in range(1,11):\n",
        "  while True:\n",
        "    y=float(input(\"Enter a number:\"))\n",
        "    if y<5:\n",
        "      break\n",
        "    else:\n",
        "      print(\"Invalid, please put a number less than 5\")\n",
        "      continue\n",
        "  num.append(y)\n",
        "  x+=1\n",
        "\n",
        "x=0\n",
        "summation=0\n",
        "print(\"The numbers you entered are:\",num)\n",
        "print(\"\")\n",
        "for x in num:\n",
        "  if x<5:\n",
        "    summation=summation+x\n",
        "print(\"The sum of numbers that are less than 5 is:\",summation)"
      ]
    },
    {
      "cell_type": "markdown",
      "source": [
        "## PROBLEM STATEMENT 2."
      ],
      "metadata": {
        "id": "oeeADn9r90Xg"
      }
    },
    {
      "cell_type": "code",
      "source": [
        "num = 1;\n",
        "data = {};\n",
        "while (num<=5):\n",
        "  c = str(num);\n",
        "  data[num] = input(\"Enter a number:\")\n",
        "  print(\"The value for number \" +c+ \" is \" +data[num])\n",
        "  num+=1\n",
        "  if(num==6):\n",
        "    sum= int(data[1])+int(data[5])\n",
        "print(\"The sum of the first and last number is:\"+str(sum))"
      ],
      "metadata": {
        "colab": {
          "base_uri": "https://localhost:8080/"
        },
        "id": "UzqzXCAx-Wo9",
        "outputId": "3f9dd0e0-df4c-428f-adde-ac85f5341b64"
      },
      "execution_count": 4,
      "outputs": [
        {
          "output_type": "stream",
          "name": "stdout",
          "text": [
            "Enter a number:0325\n",
            "The value for number 1 is 0325\n",
            "Enter a number:4419\n",
            "The value for number 2 is 4419\n",
            "Enter a number:0320\n",
            "The value for number 3 is 0320\n",
            "Enter a number:1003\n",
            "The value for number 4 is 1003\n",
            "Enter a number:0801\n",
            "The value for number 5 is 0801\n",
            "The sum of the first and last number is:1126\n"
          ]
        }
      ]
    },
    {
      "cell_type": "markdown",
      "source": [
        "## PROBLEM STATEMENT 3."
      ],
      "metadata": {
        "id": "xT7X1gn892qW"
      }
    },
    {
      "cell_type": "code",
      "source": [
        "grade = int(input(\"Enter your grade:\"))\n",
        "if grade>=90:\n",
        "  print(\"A\")\n",
        "elif grade>=80:\n",
        "  print(\"B\")\n",
        "elif grade>=70:\n",
        "  print(\"C\")\n",
        "elif grade>=60:\n",
        "  print(\"D\")\n",
        "else:\n",
        "  print(\"F\")"
      ],
      "metadata": {
        "colab": {
          "base_uri": "https://localhost:8080/"
        },
        "id": "xUQgHnjT_D1M",
        "outputId": "0cdacfeb-98b0-465b-e812-8dd5508acef7"
      },
      "execution_count": 9,
      "outputs": [
        {
          "output_type": "stream",
          "name": "stdout",
          "text": [
            "Enter your grade:99\n",
            "A\n"
          ]
        }
      ]
    }
  ]
}