{
  "nbformat": 4,
  "nbformat_minor": 0,
  "metadata": {
    "colab": {
      "name": "Midterm Exam.ipynb",
      "provenance": [],
      "authorship_tag": "ABX9TyNdtv97QGUqxq9kO4gPR5N1",
      "include_colab_link": true
    },
    "kernelspec": {
      "name": "python3",
      "display_name": "Python 3"
    },
    "language_info": {
      "name": "python"
    }
  },
  "cells": [
    {
      "cell_type": "markdown",
      "metadata": {
        "id": "view-in-github",
        "colab_type": "text"
      },
      "source": [
        "<a href=\"https://colab.research.google.com/github/kathleenmei/CPEN-21A-ECE-2-1/blob/main/Midterm_Exam.ipynb\" target=\"_parent\"><img src=\"https://colab.research.google.com/assets/colab-badge.svg\" alt=\"Open In Colab\"/></a>"
      ]
    },
    {
      "cell_type": "markdown",
      "metadata": {
        "id": "AfnxYqr4DMaG"
      },
      "source": [
        "#Midterm Exam"
      ]
    },
    {
      "cell_type": "code",
      "metadata": {
        "colab": {
          "base_uri": "https://localhost:8080/"
        },
        "id": "4ziuakI-DJo-",
        "outputId": "bb715386-5b51-4089-be73-c926eee6e37a"
      },
      "source": [
        "a = \"Full name:\"\n",
        "b = \"Student Number:\"\n",
        "c = \"Age:\"\n",
        "d = \"Birthday:\"\n",
        "e = \"Address:\"\n",
        "f = \"Course:\"\n",
        "g = \"Last Sem GWA:\"\n",
        "print(a + \"Kathleen Mei R. Macalindong\")\n",
        "print(b + \"202013622\")\n",
        "print(c + \"19 years old\")\n",
        "print(d + \"June 01, 2002\")\n",
        "print(e + \"37 Bliss Biga 2, Silang, Cavite\")\n",
        "print(f + \"Bachelor of Science in Electronics & Communications Engineering\")\n",
        "print(g + \"1.17\")"
      ],
      "execution_count": 1,
      "outputs": [
        {
          "output_type": "stream",
          "name": "stdout",
          "text": [
            "Full name:Kathleen Mei R. Macalindong\n",
            "Student Number:202013622\n",
            "Age:19 years old\n",
            "Birthday:June 01, 2002\n",
            "Address:37 Bliss Biga 2, Silang, Cavite\n",
            "Course:Bachelor of Science in Electronics & Communications Engineering\n",
            "Last Sem GWA:1.17\n"
          ]
        }
      ]
    },
    {
      "cell_type": "code",
      "metadata": {
        "colab": {
          "base_uri": "https://localhost:8080/"
        },
        "id": "1eJGWKbpFc_J",
        "outputId": "641e2367-d026-40c4-fbf1-efff0a9b1320"
      },
      "source": [
        "n = 4\n",
        "answ =\"Y\"\n",
        "\n",
        "print((2<n) and (n<6))    #a\n",
        "print((2<n) or (n==6))    #b\n",
        "print(not(2<n) or (n==6)) #c\n",
        "print(not(n<6)) #d\n",
        "print((answ==\"Y\") or (answ==\"y\")) #e\n",
        "print((answ==\"Y\") and (answ==\"y\"))  #f\n",
        "print(not(answ==\"y\")) #g\n",
        "print((2<n)and(n==5+1) or (answ==\"No\")) #h\n",
        "print((n==2) and (n==7) or (answ==\"Y\")) #i\n",
        "print((n==2) and ((n==7) or (answ==\"Y\"))) #j"
      ],
      "execution_count": 20,
      "outputs": [
        {
          "output_type": "stream",
          "name": "stdout",
          "text": [
            "True\n",
            "True\n",
            "False\n",
            "False\n",
            "True\n",
            "False\n",
            "True\n",
            "False\n",
            "True\n",
            "False\n"
          ]
        }
      ]
    },
    {
      "cell_type": "code",
      "metadata": {
        "colab": {
          "base_uri": "https://localhost:8080/"
        },
        "id": "zdpa5zzzEYtt",
        "outputId": "d82432de-ead8-4c8c-8a00-0f0311857cd3"
      },
      "source": [
        "x = 2\n",
        "y = -3\n",
        "w = 7\n",
        "z = -10\n",
        "\n",
        "print(x/y)          #a\n",
        "print(w/y/x)        #b\n",
        "print(z/y%x)        #c\n",
        "print(x%-y*w)       #d\n",
        "print(x%y)          #e\n",
        "print(z%w-y/x*5+5)  #f\n",
        "print(9-x%(2+y))    #g\n",
        "print(z//w)         #h\n",
        "print((2+y)**2)     #i\n",
        "print(w/x*2)        #j"
      ],
      "execution_count": 8,
      "outputs": [
        {
          "output_type": "stream",
          "name": "stdout",
          "text": [
            "-0.6666666666666666\n",
            "-1.1666666666666667\n",
            "1.3333333333333335\n",
            "14\n",
            "-1\n",
            "16.5\n",
            "9\n",
            "-2\n",
            "1\n",
            "7.0\n"
          ]
        }
      ]
    }
  ]
}